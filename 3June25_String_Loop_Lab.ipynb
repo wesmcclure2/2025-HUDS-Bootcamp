{
  "nbformat": 4,
  "nbformat_minor": 0,
  "metadata": {
    "colab": {
      "provenance": [],
      "include_colab_link": true
    },
    "kernelspec": {
      "name": "python3",
      "display_name": "Python 3"
    },
    "language_info": {
      "name": "python"
    }
  },
  "cells": [
    {
      "cell_type": "markdown",
      "metadata": {
        "id": "view-in-github",
        "colab_type": "text"
      },
      "source": [
        "<a href=\"https://colab.research.google.com/github/wesmcclure2/2025-HUDS-Bootcamp/blob/main/3June25_String_Loop_Lab.ipynb\" target=\"_parent\"><img src=\"https://colab.research.google.com/assets/colab-badge.svg\" alt=\"Open In Colab\"/></a>"
      ]
    },
    {
      "cell_type": "code",
      "source": [
        "print(\"This program will check to see if two values are the same.\")\n",
        "string1 = input(\"Enter a name: \")\n",
        "string2 = input(\"Enter another name: \")\n",
        "\n",
        "if string1 == string2:\n",
        "    print(\"They are the same!\")\n",
        "else:\n",
        "    print(\"They are not the same.\")\n"
      ],
      "metadata": {
        "colab": {
          "base_uri": "https://localhost:8080/"
        },
        "id": "ECS6xfdINh2M",
        "outputId": "c9782529-c59b-4618-803f-88a5886d2c2f"
      },
      "execution_count": null,
      "outputs": [
        {
          "output_type": "stream",
          "name": "stdout",
          "text": [
            "This program will check to see if two values are the same.\n"
          ]
        }
      ]
    },
    {
      "cell_type": "code",
      "source": [
        "\n",
        "string11 = \"It's Friday!\"\n",
        "string12 = \"It's Friday!\"\n",
        "print(string11 is string12)\n"
      ],
      "metadata": {
        "id": "GZ7WxBArSYdP"
      },
      "execution_count": null,
      "outputs": []
    },
    {
      "cell_type": "code",
      "execution_count": null,
      "metadata": {
        "id": "pBjdRBDuU_2O"
      },
      "outputs": [],
      "source": [
        "welcome = \"Hello Black World\"\n",
        "length = len(welcome)\n",
        "print(length)\n"
      ]
    },
    {
      "cell_type": "code",
      "source": [
        "my_string = \"Hello!\"\n",
        "character = my_string[5]\n",
        "print(character)\n"
      ],
      "metadata": {
        "id": "FCpaBYt2VTte"
      },
      "execution_count": null,
      "outputs": []
    },
    {
      "cell_type": "code",
      "source": [
        "my_string = \"House\"\n",
        "#my_string[0] = \"M\"\n",
        "print(my_string)\n",
        "\n",
        "my_string = \"House\"\n",
        "my_string = \"Home\"\n",
        "print(my_string)\n",
        "\n"
      ],
      "metadata": {
        "id": "OZWuFoTSVgGJ"
      },
      "execution_count": null,
      "outputs": []
    },
    {
      "cell_type": "code",
      "source": [
        "my_string = \"The brown dog jumps over the lazy fox.\"\n",
        "\n",
        "print(\"jumps\" in my_string)\n"
      ],
      "metadata": {
        "id": "cHp10EvqWhhO"
      },
      "execution_count": null,
      "outputs": []
    },
    {
      "cell_type": "code",
      "source": [
        "my_string = \"The brown dog jumps over the lazy fox.\"\n",
        "my_slice = my_string[4:9]\n",
        "\n",
        "print(my_slice)\n"
      ],
      "metadata": {
        "id": "Qs915wpbWvL9"
      },
      "execution_count": null,
      "outputs": []
    },
    {
      "cell_type": "code",
      "source": [
        "my_string = \"Hello world\"\n",
        "\n",
        "for char in my_string:\n",
        "    print(char)\n"
      ],
      "metadata": {
        "id": "77L6-QI3X1YQ"
      },
      "execution_count": null,
      "outputs": []
    },
    {
      "cell_type": "code",
      "source": [
        "string1 = \"It's Friday!\"\n",
        "string2 = \"It's friday!\"\n",
        "print(string1 == string2)\n"
      ],
      "metadata": {
        "id": "hjJ5UB5IYHt7"
      },
      "execution_count": null,
      "outputs": []
    },
    {
      "cell_type": "code",
      "source": [
        "NameF = input(\"What is your first name? \")\n",
        "NameMI = input(\"What is your middle intial? \")\n",
        "NameL = input(\"What is your last name? \")\n",
        "\n",
        "print (NameF + NameMI + NameL)\n",
        "\n",
        "print(NameF + ' '+ NameMI + ' '+ NameL)"
      ],
      "metadata": {
        "id": "JQ6AVu2iYalx"
      },
      "execution_count": null,
      "outputs": []
    },
    {
      "cell_type": "code",
      "source": [
        "print(\"This program will check to see if two values are the same.\")\n",
        "string1 = input(\"Enter a value: \").lower()\n",
        "string2 = input(\"Enter another value: \").lower()\n",
        "if string1 == string2:\n",
        "    print(\"They are the same!\")\n",
        "else:\n",
        "    print(\"They are not the same.\")\n"
      ],
      "metadata": {
        "id": "ofrzds55YrsP"
      },
      "execution_count": null,
      "outputs": []
    },
    {
      "cell_type": "code",
      "source": [
        "print(string2)"
      ],
      "metadata": {
        "id": "k8tdDJ5KZFzU"
      },
      "execution_count": null,
      "outputs": []
    },
    {
      "cell_type": "code",
      "source": [
        "age = int(input(\"Enter your age: \"))\n",
        "\n",
        "if age < 18:\n",
        "    print(\"You are underage.\")\n",
        "elif age >= 18 and age < 65:\n",
        "    print(\"You are an adult.\")\n",
        "else:\n",
        "    print(\"You are a senior citizen.\")"
      ],
      "metadata": {
        "id": "folL2CP0ZPlG"
      },
      "execution_count": null,
      "outputs": []
    }
  ]
}