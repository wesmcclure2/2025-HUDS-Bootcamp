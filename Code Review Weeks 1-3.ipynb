{
  "nbformat": 4,
  "nbformat_minor": 0,
  "metadata": {
    "colab": {
      "provenance": [],
      "include_colab_link": true
    },
    "kernelspec": {
      "name": "python3",
      "display_name": "Python 3"
    },
    "language_info": {
      "name": "python"
    }
  },
  "cells": [
    {
      "cell_type": "markdown",
      "metadata": {
        "id": "view-in-github",
        "colab_type": "text"
      },
      "source": [
        "<a href=\"https://colab.research.google.com/github/wesmcclure2/2025-HUDS-Bootcamp/blob/main/Code%20Review%20Weeks%201-3.ipynb\" target=\"_parent\"><img src=\"https://colab.research.google.com/assets/colab-badge.svg\" alt=\"Open In Colab\"/></a>"
      ]
    },
    {
      "cell_type": "markdown",
      "source": [
        "## Print Statements vs. Calling a variable.\n",
        "The print statement specifically prints, to screen, the contents of the statement. This is the information located within the parentheses. This can be a combination of elements including string statements, numeric values, formatted text, or the contents of a list or dictionary.\n",
        "\n",
        "Calling a variable is a way of using the information stored in the variable for manipulation or in a method. when you call the variable with a method it will perform the action on the contents of the variable. When you type the variable name you are calling the variable. If no method is associated with the variable call it will display the contents of the variable to screen.\n",
        "\n",
        "These are often thought to be the same but are actually different actions."
      ],
      "metadata": {
        "id": "Q0GNNNp3nLMW"
      }
    },
    {
      "cell_type": "code",
      "execution_count": 1,
      "metadata": {
        "colab": {
          "base_uri": "https://localhost:8080/"
        },
        "id": "8GcacPQwmyJt",
        "outputId": "fd449a21-865d-4e7b-c493-3f7d74323713"
      },
      "outputs": [
        {
          "output_type": "stream",
          "name": "stdout",
          "text": [
            "This is a string value.\n"
          ]
        }
      ],
      "source": [
        "# Let's generate a basic print statement\n",
        "print(\"This is a string value.\")"
      ]
    },
    {
      "cell_type": "code",
      "source": [
        "# Let's create a variable then call the variable\n",
        "universityName = \"Howard University\"\n",
        "universityName\n",
        "# Calling the variable without a method displays the variable contents."
      ],
      "metadata": {
        "colab": {
          "base_uri": "https://localhost:8080/",
          "height": 35
        },
        "id": "maNUpU3Tnspf",
        "outputId": "4645b53b-c0f3-4a0c-ffe8-73a85d5d6aaf"
      },
      "execution_count": null,
      "outputs": [
        {
          "output_type": "execute_result",
          "data": {
            "text/plain": [
              "'Howard University'"
            ],
            "application/vnd.google.colaboratory.intrinsic+json": {
              "type": "string"
            }
          },
          "metadata": {},
          "execution_count": 2
        }
      ]
    },
    {
      "cell_type": "markdown",
      "source": [
        "Take not that the variable value is enclosed in quotes indicating it is a string value."
      ],
      "metadata": {
        "id": "BbRHa-ct2rYz"
      }
    },
    {
      "cell_type": "code",
      "source": [
        "# Print statements accept the variable name to display the contents.\n",
        "print(universityName)"
      ],
      "metadata": {
        "colab": {
          "base_uri": "https://localhost:8080/"
        },
        "id": "TQhUsYpZnz__",
        "outputId": "97f470ee-1c7e-4052-a0bb-9003945b6d75"
      },
      "execution_count": null,
      "outputs": [
        {
          "output_type": "stream",
          "name": "stdout",
          "text": [
            "Howard University\n"
          ]
        }
      ]
    },
    {
      "cell_type": "markdown",
      "source": [
        "Take note that the print statement produces just the value without any indication to the data type."
      ],
      "metadata": {
        "id": "GMtLbuSY2xR4"
      }
    },
    {
      "cell_type": "code",
      "source": [
        "# This works for numeric values too.\n",
        "# Take note that the numeric value is NOT enclosed in quotes.\n",
        "foundingYear = 1867\n",
        "foundingYear"
      ],
      "metadata": {
        "colab": {
          "base_uri": "https://localhost:8080/"
        },
        "id": "4vVCeXqmn2X5",
        "outputId": "9a1b1870-ff50-497d-f44d-86d20cef35f6"
      },
      "execution_count": null,
      "outputs": [
        {
          "output_type": "execute_result",
          "data": {
            "text/plain": [
              "1867"
            ]
          },
          "metadata": {},
          "execution_count": 4
        }
      ]
    },
    {
      "cell_type": "code",
      "source": [
        "# Calling a variable with a method.\n",
        "universityName.upper()"
      ],
      "metadata": {
        "colab": {
          "base_uri": "https://localhost:8080/",
          "height": 35
        },
        "id": "sAw3-HcHoFpu",
        "outputId": "832c8b95-9f0b-4d95-caf4-6a1344f32e4c"
      },
      "execution_count": null,
      "outputs": [
        {
          "output_type": "execute_result",
          "data": {
            "text/plain": [
              "'HOWARD UNIVERSITY'"
            ],
            "application/vnd.google.colaboratory.intrinsic+json": {
              "type": "string"
            }
          },
          "metadata": {},
          "execution_count": 5
        }
      ]
    },
    {
      "cell_type": "code",
      "source": [
        "# The previous method showed the use of the .upper() method\n",
        "# We did not assign this back to the original variable\n",
        "# The original variable remains unchanged.\n",
        "universityName"
      ],
      "metadata": {
        "colab": {
          "base_uri": "https://localhost:8080/",
          "height": 35
        },
        "id": "O0m6eG0yoJVh",
        "outputId": "6a566375-384c-43dd-c7a7-7ae17f089bb6"
      },
      "execution_count": null,
      "outputs": [
        {
          "output_type": "execute_result",
          "data": {
            "text/plain": [
              "'Howard University'"
            ],
            "application/vnd.google.colaboratory.intrinsic+json": {
              "type": "string"
            }
          },
          "metadata": {},
          "execution_count": 6
        }
      ]
    },
    {
      "cell_type": "code",
      "source": [
        "# To change the variable we assign the .upper() method to the variable.\n",
        "universityName = universityName.upper()"
      ],
      "metadata": {
        "id": "TeM6T8b6n8to"
      },
      "execution_count": null,
      "outputs": []
    },
    {
      "cell_type": "code",
      "source": [
        "# Now let's call the variable to see the result.\n",
        "universityName"
      ],
      "metadata": {
        "colab": {
          "base_uri": "https://localhost:8080/",
          "height": 35
        },
        "id": "o_LE4a_noRrL",
        "outputId": "36ef7f59-51ac-4d36-92d5-ef701de6461d"
      },
      "execution_count": null,
      "outputs": [
        {
          "output_type": "execute_result",
          "data": {
            "text/plain": [
              "'HOWARD UNIVERSITY'"
            ],
            "application/vnd.google.colaboratory.intrinsic+json": {
              "type": "string"
            }
          },
          "metadata": {},
          "execution_count": 8
        }
      ]
    },
    {
      "cell_type": "code",
      "source": [
        "# You can also combine these methods with print statements\n",
        "# Note: this does not change the stored variable value, just print the result.\n",
        "print(universityName.capitalize())"
      ],
      "metadata": {
        "colab": {
          "base_uri": "https://localhost:8080/"
        },
        "id": "rmSaXD1XoTKH",
        "outputId": "12e78664-d897-4243-8e37-71f4ce29f9f9"
      },
      "execution_count": null,
      "outputs": [
        {
          "output_type": "stream",
          "name": "stdout",
          "text": [
            "Howard university\n"
          ]
        }
      ]
    },
    {
      "cell_type": "markdown",
      "source": [
        "# Python Files\n",
        "Importing files into python uses the `.read()`, `.write()`, and others. As Data Scientists we prefer to use the Pandas library to read the content of the files into a dataframe. The dataframe is a tabular format of the data that we can manipulate in many ways making it more versatile than reading files.\n",
        "\n",
        "You can import many different file types including .csv, .xlsx, .json, and even image and audio file types. Pandas has methods for each file type. Read more about the Pandas supported import file types here: https://pandas.pydata.org/docs/user_guide/io.html\n",
        "\n",
        "Python can even read files directly from github or other repositories. This prevents the need to store very large files on your local computer and enables cloud storage and import of those files directly from the source. This is especially useful when the files are updated with frequency and the latest data is needed for your analysis."
      ],
      "metadata": {
        "id": "RgR9K3uWo4jS"
      }
    },
    {
      "cell_type": "code",
      "source": [
        "# Begin by importing the libraries\n",
        "import numpy as np\n",
        "import pandas as pd\n",
        "\n",
        "# Mounting your Google Drive\n",
        "from google.colab import drive\n",
        "drive.mount('/content/drive', force_remount=True)\n",
        "\n",
        "# Reading a .csv file stored in Google Drive\n",
        "us_covid = pd.read_csv(\"/content/drive/MyDrive/Colab Notebooks/us_covid_19.csv\")\n",
        "\n",
        "# Calling the first five rows of the dataframe\n",
        "us_covid.head()"
      ],
      "metadata": {
        "id": "2dGiGc2OpLDj",
        "colab": {
          "base_uri": "https://localhost:8080/",
          "height": 226
        },
        "outputId": "be6e6d91-bcfd-485b-e5cc-2bcfeae868f1"
      },
      "execution_count": null,
      "outputs": [
        {
          "output_type": "execute_result",
          "data": {
            "text/plain": [
              "  submission_date state tot_cases conf_cases prob_cases new_case tot_death  \\\n",
              "0       3/11/2021    KS   297,229    241,035     56,194        0     4,851   \n",
              "1       12/1/2021    ND   163,565    135,705     27,860      589     1,907   \n",
              "2        1/2/2022    AS        11        NaN        NaN        0         0   \n",
              "3      11/22/2021    AL   841,461    620,483    220,978      703    16,377   \n",
              "4       5/30/2022    AK   251,425        NaN        NaN        0     1,252   \n",
              "\n",
              "  conf_death new_death  \n",
              "0        NaN         0  \n",
              "1        NaN         9  \n",
              "2        NaN         0  \n",
              "3     12,727         7  \n",
              "4        NaN         0  "
            ],
            "text/html": [
              "\n",
              "  <div id=\"df-7a806223-135a-45d8-8336-90b95554804e\" class=\"colab-df-container\">\n",
              "    <div>\n",
              "<style scoped>\n",
              "    .dataframe tbody tr th:only-of-type {\n",
              "        vertical-align: middle;\n",
              "    }\n",
              "\n",
              "    .dataframe tbody tr th {\n",
              "        vertical-align: top;\n",
              "    }\n",
              "\n",
              "    .dataframe thead th {\n",
              "        text-align: right;\n",
              "    }\n",
              "</style>\n",
              "<table border=\"1\" class=\"dataframe\">\n",
              "  <thead>\n",
              "    <tr style=\"text-align: right;\">\n",
              "      <th></th>\n",
              "      <th>submission_date</th>\n",
              "      <th>state</th>\n",
              "      <th>tot_cases</th>\n",
              "      <th>conf_cases</th>\n",
              "      <th>prob_cases</th>\n",
              "      <th>new_case</th>\n",
              "      <th>tot_death</th>\n",
              "      <th>conf_death</th>\n",
              "      <th>new_death</th>\n",
              "    </tr>\n",
              "  </thead>\n",
              "  <tbody>\n",
              "    <tr>\n",
              "      <th>0</th>\n",
              "      <td>3/11/2021</td>\n",
              "      <td>KS</td>\n",
              "      <td>297,229</td>\n",
              "      <td>241,035</td>\n",
              "      <td>56,194</td>\n",
              "      <td>0</td>\n",
              "      <td>4,851</td>\n",
              "      <td>NaN</td>\n",
              "      <td>0</td>\n",
              "    </tr>\n",
              "    <tr>\n",
              "      <th>1</th>\n",
              "      <td>12/1/2021</td>\n",
              "      <td>ND</td>\n",
              "      <td>163,565</td>\n",
              "      <td>135,705</td>\n",
              "      <td>27,860</td>\n",
              "      <td>589</td>\n",
              "      <td>1,907</td>\n",
              "      <td>NaN</td>\n",
              "      <td>9</td>\n",
              "    </tr>\n",
              "    <tr>\n",
              "      <th>2</th>\n",
              "      <td>1/2/2022</td>\n",
              "      <td>AS</td>\n",
              "      <td>11</td>\n",
              "      <td>NaN</td>\n",
              "      <td>NaN</td>\n",
              "      <td>0</td>\n",
              "      <td>0</td>\n",
              "      <td>NaN</td>\n",
              "      <td>0</td>\n",
              "    </tr>\n",
              "    <tr>\n",
              "      <th>3</th>\n",
              "      <td>11/22/2021</td>\n",
              "      <td>AL</td>\n",
              "      <td>841,461</td>\n",
              "      <td>620,483</td>\n",
              "      <td>220,978</td>\n",
              "      <td>703</td>\n",
              "      <td>16,377</td>\n",
              "      <td>12,727</td>\n",
              "      <td>7</td>\n",
              "    </tr>\n",
              "    <tr>\n",
              "      <th>4</th>\n",
              "      <td>5/30/2022</td>\n",
              "      <td>AK</td>\n",
              "      <td>251,425</td>\n",
              "      <td>NaN</td>\n",
              "      <td>NaN</td>\n",
              "      <td>0</td>\n",
              "      <td>1,252</td>\n",
              "      <td>NaN</td>\n",
              "      <td>0</td>\n",
              "    </tr>\n",
              "  </tbody>\n",
              "</table>\n",
              "</div>\n",
              "    <div class=\"colab-df-buttons\">\n",
              "\n",
              "  <div class=\"colab-df-container\">\n",
              "    <button class=\"colab-df-convert\" onclick=\"convertToInteractive('df-7a806223-135a-45d8-8336-90b95554804e')\"\n",
              "            title=\"Convert this dataframe to an interactive table.\"\n",
              "            style=\"display:none;\">\n",
              "\n",
              "  <svg xmlns=\"http://www.w3.org/2000/svg\" height=\"24px\" viewBox=\"0 -960 960 960\">\n",
              "    <path d=\"M120-120v-720h720v720H120Zm60-500h600v-160H180v160Zm220 220h160v-160H400v160Zm0 220h160v-160H400v160ZM180-400h160v-160H180v160Zm440 0h160v-160H620v160ZM180-180h160v-160H180v160Zm440 0h160v-160H620v160Z\"/>\n",
              "  </svg>\n",
              "    </button>\n",
              "\n",
              "  <style>\n",
              "    .colab-df-container {\n",
              "      display:flex;\n",
              "      gap: 12px;\n",
              "    }\n",
              "\n",
              "    .colab-df-convert {\n",
              "      background-color: #E8F0FE;\n",
              "      border: none;\n",
              "      border-radius: 50%;\n",
              "      cursor: pointer;\n",
              "      display: none;\n",
              "      fill: #1967D2;\n",
              "      height: 32px;\n",
              "      padding: 0 0 0 0;\n",
              "      width: 32px;\n",
              "    }\n",
              "\n",
              "    .colab-df-convert:hover {\n",
              "      background-color: #E2EBFA;\n",
              "      box-shadow: 0px 1px 2px rgba(60, 64, 67, 0.3), 0px 1px 3px 1px rgba(60, 64, 67, 0.15);\n",
              "      fill: #174EA6;\n",
              "    }\n",
              "\n",
              "    .colab-df-buttons div {\n",
              "      margin-bottom: 4px;\n",
              "    }\n",
              "\n",
              "    [theme=dark] .colab-df-convert {\n",
              "      background-color: #3B4455;\n",
              "      fill: #D2E3FC;\n",
              "    }\n",
              "\n",
              "    [theme=dark] .colab-df-convert:hover {\n",
              "      background-color: #434B5C;\n",
              "      box-shadow: 0px 1px 3px 1px rgba(0, 0, 0, 0.15);\n",
              "      filter: drop-shadow(0px 1px 2px rgba(0, 0, 0, 0.3));\n",
              "      fill: #FFFFFF;\n",
              "    }\n",
              "  </style>\n",
              "\n",
              "    <script>\n",
              "      const buttonEl =\n",
              "        document.querySelector('#df-7a806223-135a-45d8-8336-90b95554804e button.colab-df-convert');\n",
              "      buttonEl.style.display =\n",
              "        google.colab.kernel.accessAllowed ? 'block' : 'none';\n",
              "\n",
              "      async function convertToInteractive(key) {\n",
              "        const element = document.querySelector('#df-7a806223-135a-45d8-8336-90b95554804e');\n",
              "        const dataTable =\n",
              "          await google.colab.kernel.invokeFunction('convertToInteractive',\n",
              "                                                    [key], {});\n",
              "        if (!dataTable) return;\n",
              "\n",
              "        const docLinkHtml = 'Like what you see? Visit the ' +\n",
              "          '<a target=\"_blank\" href=https://colab.research.google.com/notebooks/data_table.ipynb>data table notebook</a>'\n",
              "          + ' to learn more about interactive tables.';\n",
              "        element.innerHTML = '';\n",
              "        dataTable['output_type'] = 'display_data';\n",
              "        await google.colab.output.renderOutput(dataTable, element);\n",
              "        const docLink = document.createElement('div');\n",
              "        docLink.innerHTML = docLinkHtml;\n",
              "        element.appendChild(docLink);\n",
              "      }\n",
              "    </script>\n",
              "  </div>\n",
              "\n",
              "\n",
              "<div id=\"df-a5eb2bf2-c714-4182-b67f-aef65419b93a\">\n",
              "  <button class=\"colab-df-quickchart\" onclick=\"quickchart('df-a5eb2bf2-c714-4182-b67f-aef65419b93a')\"\n",
              "            title=\"Suggest charts\"\n",
              "            style=\"display:none;\">\n",
              "\n",
              "<svg xmlns=\"http://www.w3.org/2000/svg\" height=\"24px\"viewBox=\"0 0 24 24\"\n",
              "     width=\"24px\">\n",
              "    <g>\n",
              "        <path d=\"M19 3H5c-1.1 0-2 .9-2 2v14c0 1.1.9 2 2 2h14c1.1 0 2-.9 2-2V5c0-1.1-.9-2-2-2zM9 17H7v-7h2v7zm4 0h-2V7h2v10zm4 0h-2v-4h2v4z\"/>\n",
              "    </g>\n",
              "</svg>\n",
              "  </button>\n",
              "\n",
              "<style>\n",
              "  .colab-df-quickchart {\n",
              "      --bg-color: #E8F0FE;\n",
              "      --fill-color: #1967D2;\n",
              "      --hover-bg-color: #E2EBFA;\n",
              "      --hover-fill-color: #174EA6;\n",
              "      --disabled-fill-color: #AAA;\n",
              "      --disabled-bg-color: #DDD;\n",
              "  }\n",
              "\n",
              "  [theme=dark] .colab-df-quickchart {\n",
              "      --bg-color: #3B4455;\n",
              "      --fill-color: #D2E3FC;\n",
              "      --hover-bg-color: #434B5C;\n",
              "      --hover-fill-color: #FFFFFF;\n",
              "      --disabled-bg-color: #3B4455;\n",
              "      --disabled-fill-color: #666;\n",
              "  }\n",
              "\n",
              "  .colab-df-quickchart {\n",
              "    background-color: var(--bg-color);\n",
              "    border: none;\n",
              "    border-radius: 50%;\n",
              "    cursor: pointer;\n",
              "    display: none;\n",
              "    fill: var(--fill-color);\n",
              "    height: 32px;\n",
              "    padding: 0;\n",
              "    width: 32px;\n",
              "  }\n",
              "\n",
              "  .colab-df-quickchart:hover {\n",
              "    background-color: var(--hover-bg-color);\n",
              "    box-shadow: 0 1px 2px rgba(60, 64, 67, 0.3), 0 1px 3px 1px rgba(60, 64, 67, 0.15);\n",
              "    fill: var(--button-hover-fill-color);\n",
              "  }\n",
              "\n",
              "  .colab-df-quickchart-complete:disabled,\n",
              "  .colab-df-quickchart-complete:disabled:hover {\n",
              "    background-color: var(--disabled-bg-color);\n",
              "    fill: var(--disabled-fill-color);\n",
              "    box-shadow: none;\n",
              "  }\n",
              "\n",
              "  .colab-df-spinner {\n",
              "    border: 2px solid var(--fill-color);\n",
              "    border-color: transparent;\n",
              "    border-bottom-color: var(--fill-color);\n",
              "    animation:\n",
              "      spin 1s steps(1) infinite;\n",
              "  }\n",
              "\n",
              "  @keyframes spin {\n",
              "    0% {\n",
              "      border-color: transparent;\n",
              "      border-bottom-color: var(--fill-color);\n",
              "      border-left-color: var(--fill-color);\n",
              "    }\n",
              "    20% {\n",
              "      border-color: transparent;\n",
              "      border-left-color: var(--fill-color);\n",
              "      border-top-color: var(--fill-color);\n",
              "    }\n",
              "    30% {\n",
              "      border-color: transparent;\n",
              "      border-left-color: var(--fill-color);\n",
              "      border-top-color: var(--fill-color);\n",
              "      border-right-color: var(--fill-color);\n",
              "    }\n",
              "    40% {\n",
              "      border-color: transparent;\n",
              "      border-right-color: var(--fill-color);\n",
              "      border-top-color: var(--fill-color);\n",
              "    }\n",
              "    60% {\n",
              "      border-color: transparent;\n",
              "      border-right-color: var(--fill-color);\n",
              "    }\n",
              "    80% {\n",
              "      border-color: transparent;\n",
              "      border-right-color: var(--fill-color);\n",
              "      border-bottom-color: var(--fill-color);\n",
              "    }\n",
              "    90% {\n",
              "      border-color: transparent;\n",
              "      border-bottom-color: var(--fill-color);\n",
              "    }\n",
              "  }\n",
              "</style>\n",
              "\n",
              "  <script>\n",
              "    async function quickchart(key) {\n",
              "      const quickchartButtonEl =\n",
              "        document.querySelector('#' + key + ' button');\n",
              "      quickchartButtonEl.disabled = true;  // To prevent multiple clicks.\n",
              "      quickchartButtonEl.classList.add('colab-df-spinner');\n",
              "      try {\n",
              "        const charts = await google.colab.kernel.invokeFunction(\n",
              "            'suggestCharts', [key], {});\n",
              "      } catch (error) {\n",
              "        console.error('Error during call to suggestCharts:', error);\n",
              "      }\n",
              "      quickchartButtonEl.classList.remove('colab-df-spinner');\n",
              "      quickchartButtonEl.classList.add('colab-df-quickchart-complete');\n",
              "    }\n",
              "    (() => {\n",
              "      let quickchartButtonEl =\n",
              "        document.querySelector('#df-a5eb2bf2-c714-4182-b67f-aef65419b93a button');\n",
              "      quickchartButtonEl.style.display =\n",
              "        google.colab.kernel.accessAllowed ? 'block' : 'none';\n",
              "    })();\n",
              "  </script>\n",
              "</div>\n",
              "\n",
              "    </div>\n",
              "  </div>\n"
            ],
            "application/vnd.google.colaboratory.intrinsic+json": {
              "type": "dataframe",
              "variable_name": "us_covid",
              "summary": "{\n  \"name\": \"us_covid\",\n  \"rows\": 60060,\n  \"fields\": [\n    {\n      \"column\": \"submission_date\",\n      \"properties\": {\n        \"dtype\": \"object\",\n        \"num_unique_values\": 1001,\n        \"samples\": [\n          \"1/24/2021\",\n          \"7/9/2022\",\n          \"10/22/2020\"\n        ],\n        \"semantic_type\": \"\",\n        \"description\": \"\"\n      }\n    },\n    {\n      \"column\": \"state\",\n      \"properties\": {\n        \"dtype\": \"category\",\n        \"num_unique_values\": 60,\n        \"samples\": [\n          \"KS\",\n          \"RMI\",\n          \"MI\"\n        ],\n        \"semantic_type\": \"\",\n        \"description\": \"\"\n      }\n    },\n    {\n      \"column\": \"tot_cases\",\n      \"properties\": {\n        \"dtype\": \"string\",\n        \"num_unique_values\": 43020,\n        \"samples\": [\n          \"1,129,494\",\n          \"58,512\",\n          \"379,190\"\n        ],\n        \"semantic_type\": \"\",\n        \"description\": \"\"\n      }\n    },\n    {\n      \"column\": \"conf_cases\",\n      \"properties\": {\n        \"dtype\": \"category\",\n        \"num_unique_values\": 26174,\n        \"samples\": [\n          \"432,773\",\n          \"328,686\",\n          \"8,309\"\n        ],\n        \"semantic_type\": \"\",\n        \"description\": \"\"\n      }\n    },\n    {\n      \"column\": \"prob_cases\",\n      \"properties\": {\n        \"dtype\": \"category\",\n        \"num_unique_values\": 19304,\n        \"samples\": [\n          \"76,816\",\n          \"22,573\",\n          \"12,065\"\n        ],\n        \"semantic_type\": \"\",\n        \"description\": \"\"\n      }\n    },\n    {\n      \"column\": \"new_case\",\n      \"properties\": {\n        \"dtype\": \"category\",\n        \"num_unique_values\": 8125,\n        \"samples\": [\n          \"18,247\",\n          \"1,616\",\n          \"4,746\"\n        ],\n        \"semantic_type\": \"\",\n        \"description\": \"\"\n      }\n    },\n    {\n      \"column\": \"tot_death\",\n      \"properties\": {\n        \"dtype\": \"category\",\n        \"num_unique_values\": 19165,\n        \"samples\": [\n          \"40,836\",\n          \"16,660\",\n          \"13,173\"\n        ],\n        \"semantic_type\": \"\",\n        \"description\": \"\"\n      }\n    },\n    {\n      \"column\": \"conf_death\",\n      \"properties\": {\n        \"dtype\": \"category\",\n        \"num_unique_values\": 14171,\n        \"samples\": [\n          \"34,320\",\n          \"18,581\",\n          \"17,003\"\n        ],\n        \"semantic_type\": \"\",\n        \"description\": \"\"\n      }\n    },\n    {\n      \"column\": \"new_death\",\n      \"properties\": {\n        \"dtype\": \"category\",\n        \"num_unique_values\": 506,\n        \"samples\": [\n          \"575\",\n          \"275\",\n          \"365\"\n        ],\n        \"semantic_type\": \"\",\n        \"description\": \"\"\n      }\n    }\n  ]\n}"
            }
          },
          "metadata": {},
          "execution_count": 4
        }
      ]
    },
    {
      "cell_type": "code",
      "source": [
        "# Install the UCI Repo Connection Library\n",
        "pip install ucimlrepo"
      ],
      "metadata": {
        "id": "46We66sUobWC",
        "colab": {
          "base_uri": "https://localhost:8080/"
        },
        "outputId": "57c306df-8dc2-4409-f63f-9ca7d2cbd08e"
      },
      "execution_count": null,
      "outputs": [
        {
          "output_type": "stream",
          "name": "stdout",
          "text": [
            "Collecting ucimlrepo\n",
            "  Downloading ucimlrepo-0.0.7-py3-none-any.whl (8.0 kB)\n",
            "Requirement already satisfied: pandas>=1.0.0 in /usr/local/lib/python3.10/dist-packages (from ucimlrepo) (2.0.3)\n",
            "Requirement already satisfied: certifi>=2020.12.5 in /usr/local/lib/python3.10/dist-packages (from ucimlrepo) (2024.6.2)\n",
            "Requirement already satisfied: python-dateutil>=2.8.2 in /usr/local/lib/python3.10/dist-packages (from pandas>=1.0.0->ucimlrepo) (2.8.2)\n",
            "Requirement already satisfied: pytz>=2020.1 in /usr/local/lib/python3.10/dist-packages (from pandas>=1.0.0->ucimlrepo) (2023.4)\n",
            "Requirement already satisfied: tzdata>=2022.1 in /usr/local/lib/python3.10/dist-packages (from pandas>=1.0.0->ucimlrepo) (2024.1)\n",
            "Requirement already satisfied: numpy>=1.21.0 in /usr/local/lib/python3.10/dist-packages (from pandas>=1.0.0->ucimlrepo) (1.25.2)\n",
            "Requirement already satisfied: six>=1.5 in /usr/local/lib/python3.10/dist-packages (from python-dateutil>=2.8.2->pandas>=1.0.0->ucimlrepo) (1.16.0)\n",
            "Installing collected packages: ucimlrepo\n",
            "Successfully installed ucimlrepo-0.0.7\n"
          ]
        }
      ]
    },
    {
      "cell_type": "code",
      "source": [
        "# Import the UCI Repo Connection Library\n",
        "from ucimlrepo import fetch_ucirepo\n",
        "\n",
        "# fetch El Nino Weather Stations dataset\n",
        "el_nino = fetch_ucirepo(id=122)\n",
        "\n",
        "# data (as pandas dataframes)\n",
        "remoteStations = el_nino.data.features\n",
        "\n",
        "# metadata\n",
        "print(el_nino.metadata)\n",
        "\n",
        "# variable information\n",
        "print(el_nino.variables)"
      ],
      "metadata": {
        "colab": {
          "base_uri": "https://localhost:8080/"
        },
        "id": "3vWmi41c8lC9",
        "outputId": "c7f777b3-973c-4ca7-91ee-255e1da0c764"
      },
      "execution_count": null,
      "outputs": [
        {
          "output_type": "stream",
          "name": "stdout",
          "text": [
            "{'uci_id': 122, 'name': 'El Nino', 'repository_url': 'https://archive.ics.uci.edu/dataset/122/el+nino', 'data_url': 'https://archive.ics.uci.edu/static/public/122/data.csv', 'abstract': 'The data set contains oceanographic and surface meteorological readings taken from a series of buoys positioned throughout the equatorial Pacific.', 'area': 'Climate and Environment', 'tasks': ['Other'], 'characteristics': ['Other'], 'num_instances': 178080, 'num_features': 11, 'feature_types': ['Integer', 'Real'], 'demographics': [], 'target_col': None, 'index_col': ['obs'], 'has_missing_values': 'yes', 'missing_values_symbol': 'NaN', 'year_of_dataset_creation': 1999, 'last_updated': 'Sat Mar 16 2024', 'dataset_doi': '10.24432/C5WG62', 'creators': [], 'intro_paper': None, 'additional_info': {'summary': \"This data was collected with the Tropical Atmosphere Ocean (TAO) array which was developed by the international Tropical Ocean Global Atmosphere (TOGA) program. The TAO array consists of nearly 70 moored buoys spanning the equatorial Pacific, measuring oceanographic and surface meteorological variables critical for improved detection, understanding and prediction of seasonal-to-interannual climate variations originating in the tropics, most notably those related to the El Nino/Southern Oscillation (ENSO) cycles. \\r\\n\\r\\nThe moorings were developed by National Oceanic and Atmospheric Administration's (NOAA) Pacific Marine Environmental Laboratory (PMEL). Each mooring measures air temperature, relative humidity, surface winds, sea surface temperatures and subsurface temperatures down to a depth of 500 meters and a few a of the buoys measure currents, rainfall and solar radiation. The data from the array, and current updates, can be viewed on the web at the this address . \\r\\n\\r\\nThe El Nino/Southern Oscillation (ENSO) cycle of 1982-1983, the strongest of the century, created many problems throughout the world. Parts of the world such as Peru and the Unites States experienced destructive flooding from increased rainfalls while the western Pacific areas experienced drought and devastating brush fires. The ENSO cycle was neither predicted nor detected until it was near its peak. This highlighted the need for an ocean observing system (i.e. the TAO array) to support studies of large scale ocean-atmosphere interactions on seasonal-to-interannual time scales. \\r\\n\\r\\nThe TAO array provides real-time data to climate researchers, weather prediction centers and scientists around the world. Forcasts for tropical Pacific Ocean temperatures for one to two years in advance can be made using the ENSO cycle data. These forcasts are possible because of the moored buoys, along with drifting buoys, volunteer ship temperature probes, and sea level measurements. \\r\\n\\r\\nResearch questions of interest include: \\r\\n\\r\\n- How can the data be used to predict weather conditions throughout the world? \\r\\n- How do the variables relate to each other? \\r\\n- Which variables have a greater effect on the climate variations? \\r\\n- Does the amount of movement of the buoy effect the reliability of the data? \\r\\n- When performing an analysis of the data, one should pay attention the possible affect of autocorrelation. Using a multiple regression approach to model the data would require a look at autoregression since the weather statistics of the previous days will affect today's weather. \\r\\n\\r\\nThe data is stored in an ASCII files with one observation per line. Spaces separate fields and periods (.) denote missing values. \\r\\n\\r\\nMore information and data from the TAO array can be found at the Pacific Marine Environmental Laboratory TAO data webpage: http://www.pmel.noaa.gov/toga-tao/\\r\\n\\r\\nInformation on storm data is available here: http://www.ncdc.noaa.gov/pdfs/sd/sd.html. This site contains data from January 1994 to April 1998 in a chronological listing by state provided by the National Weather Service. The data includes hurricanes, tornadoes, thunderstorms, hail, floods, drought conditions, lightning, high winds, snow, and temperature extremes. \\r\\n\\r\\nHurricane tracking data for the Atlantic is available here: http://wxp.eas.purdue.edu/hur_atlantic/. The site contains a map showing the paths of the Atlantic hurricanes and also includes the storms winds (in knots), pressure (in millibars), and the category of the storm based on Saffir-Simpson scale. \\r\\n\\r\\nAnother site of interest related to the ENSO cyles is available here: http://www.cpc.ncep.noaa.gov/products/analysis_monitoring/ensostuff/current_impacts/precip_accum.html. This site contains information on twelve areas of the world that have demonstrated ENSO-precipitation relationships. Included in the site are maps of the areas and time series plots of actual daily precipitation and accumulated normal precipitation for the areas. \\r\\n\", 'purpose': None, 'funded_by': None, 'instances_represent': None, 'recommended_data_splits': None, 'sensitive_data': None, 'preprocessing_description': None, 'variable_info': 'The data consists of the following variables: date, latitude, longitude, zonal winds (west<0, east>0), meridional winds (south<0, north>0), relative humidity, air temperature, sea surface temperature and subsurface temperatures down to a depth of 500 meters. Data taken from the buoys from as early as 1980 for some locations. Other data that was taken in various locations are rainfall, solar radiation, current levels, and subsurface temperatures. \\r\\n\\r\\nThe latitude and longitude in the data showed that the bouys moved around to different locations. The latitude values stayed within a degree from the approximate location. Yet the longitude values were sometimes as far as five degrees off of the approximate location. \\r\\n\\r\\nLooking at the wind data, both the zonal and meridional winds fluctuated between -10 m/s and 10 m/s. The plot of the two wind variables showed no linear relationship. Also, the plots of each wind variable against the other three meteorolgical data showed no linear relationships. \\r\\n\\r\\nThe relative humidity values in the tropical Pacific were typically between 70% and 90%. \\r\\n\\r\\nBoth the air temperature and the sea surface temperature fluctuated between 20 and 30 degrees Celcius. The plot of the two temperatures variables shows a positive linear relationship existing. The two temperatures when each plotted against time also have similar plot designs. Plots of the other meteorological variables against the temperature variables showed no linear relationship. \\r\\n\\r\\nThere are missing values in the data. As mentioned earlier, not all buoys are able to measure currents, rainfall, and solar radiation, so these values are missing dependent on the individual buoy. The amount of data available is also dependent on the buoy, as certain buoys were commissioned earlier than others. \\r\\n\\r\\nAll readings were taken at the same time of day. \\r\\n\\r\\n', 'citation': None}}\n",
            "         name     role        type demographic description units  \\\n",
            "0         obs       ID     Integer        None        None  None   \n",
            "1        year  Feature     Integer        None        None  None   \n",
            "2       month  Feature     Integer        None        None  None   \n",
            "3         day  Feature     Integer        None        None  None   \n",
            "4        date  Feature        Date        None        None  None   \n",
            "5    latitude  Feature  Continuous        None        None  None   \n",
            "6   longitude  Feature  Continuous        None        None  None   \n",
            "7   zon_winds  Feature  Continuous        None        None  None   \n",
            "8   mer_winds  Feature  Continuous        None        None  None   \n",
            "9    humidity  Feature  Continuous        None        None  None   \n",
            "10   air_temp  Feature  Continuous        None        None  None   \n",
            "11    ss_temp  Feature  Continuous        None        None  None   \n",
            "\n",
            "   missing_values  \n",
            "0              no  \n",
            "1              no  \n",
            "2              no  \n",
            "3              no  \n",
            "4              no  \n",
            "5              no  \n",
            "6              no  \n",
            "7             yes  \n",
            "8             yes  \n",
            "9             yes  \n",
            "10            yes  \n",
            "11            yes  \n"
          ]
        }
      ]
    },
    {
      "cell_type": "code",
      "source": [
        "# Read the first five rows of the El Nino dataset\n",
        "remoteStations.head()"
      ],
      "metadata": {
        "colab": {
          "base_uri": "https://localhost:8080/",
          "height": 226
        },
        "id": "ZwP7UmqP88jX",
        "outputId": "7df6e151-cbaa-456e-a728-9dec14d6c9a5"
      },
      "execution_count": null,
      "outputs": [
        {
          "output_type": "execute_result",
          "data": {
            "text/plain": [
              "   year  month  day    date  latitude  longitude  zon_winds  mer_winds  \\\n",
              "0    80      3    7  800307     -0.02    -109.46       -6.8        0.7   \n",
              "1    80      3    8  800308     -0.02    -109.46       -4.9        1.1   \n",
              "2    80      3    9  800309     -0.02    -109.46       -4.5        2.2   \n",
              "3    80      3   10  800310     -0.02    -109.46       -3.8        1.9   \n",
              "4    80      3   11  800311     -0.02    -109.46       -4.2        1.5   \n",
              "\n",
              "   humidity  air_temp  ss_temp  \n",
              "0       NaN     26.14    26.24  \n",
              "1       NaN     25.66    25.97  \n",
              "2       NaN     25.69    25.28  \n",
              "3       NaN     25.57    24.31  \n",
              "4       NaN     25.30    23.19  "
            ],
            "text/html": [
              "\n",
              "  <div id=\"df-ab2f62ef-1c23-4b9a-84df-2236f6cabe8c\" class=\"colab-df-container\">\n",
              "    <div>\n",
              "<style scoped>\n",
              "    .dataframe tbody tr th:only-of-type {\n",
              "        vertical-align: middle;\n",
              "    }\n",
              "\n",
              "    .dataframe tbody tr th {\n",
              "        vertical-align: top;\n",
              "    }\n",
              "\n",
              "    .dataframe thead th {\n",
              "        text-align: right;\n",
              "    }\n",
              "</style>\n",
              "<table border=\"1\" class=\"dataframe\">\n",
              "  <thead>\n",
              "    <tr style=\"text-align: right;\">\n",
              "      <th></th>\n",
              "      <th>year</th>\n",
              "      <th>month</th>\n",
              "      <th>day</th>\n",
              "      <th>date</th>\n",
              "      <th>latitude</th>\n",
              "      <th>longitude</th>\n",
              "      <th>zon_winds</th>\n",
              "      <th>mer_winds</th>\n",
              "      <th>humidity</th>\n",
              "      <th>air_temp</th>\n",
              "      <th>ss_temp</th>\n",
              "    </tr>\n",
              "  </thead>\n",
              "  <tbody>\n",
              "    <tr>\n",
              "      <th>0</th>\n",
              "      <td>80</td>\n",
              "      <td>3</td>\n",
              "      <td>7</td>\n",
              "      <td>800307</td>\n",
              "      <td>-0.02</td>\n",
              "      <td>-109.46</td>\n",
              "      <td>-6.8</td>\n",
              "      <td>0.7</td>\n",
              "      <td>NaN</td>\n",
              "      <td>26.14</td>\n",
              "      <td>26.24</td>\n",
              "    </tr>\n",
              "    <tr>\n",
              "      <th>1</th>\n",
              "      <td>80</td>\n",
              "      <td>3</td>\n",
              "      <td>8</td>\n",
              "      <td>800308</td>\n",
              "      <td>-0.02</td>\n",
              "      <td>-109.46</td>\n",
              "      <td>-4.9</td>\n",
              "      <td>1.1</td>\n",
              "      <td>NaN</td>\n",
              "      <td>25.66</td>\n",
              "      <td>25.97</td>\n",
              "    </tr>\n",
              "    <tr>\n",
              "      <th>2</th>\n",
              "      <td>80</td>\n",
              "      <td>3</td>\n",
              "      <td>9</td>\n",
              "      <td>800309</td>\n",
              "      <td>-0.02</td>\n",
              "      <td>-109.46</td>\n",
              "      <td>-4.5</td>\n",
              "      <td>2.2</td>\n",
              "      <td>NaN</td>\n",
              "      <td>25.69</td>\n",
              "      <td>25.28</td>\n",
              "    </tr>\n",
              "    <tr>\n",
              "      <th>3</th>\n",
              "      <td>80</td>\n",
              "      <td>3</td>\n",
              "      <td>10</td>\n",
              "      <td>800310</td>\n",
              "      <td>-0.02</td>\n",
              "      <td>-109.46</td>\n",
              "      <td>-3.8</td>\n",
              "      <td>1.9</td>\n",
              "      <td>NaN</td>\n",
              "      <td>25.57</td>\n",
              "      <td>24.31</td>\n",
              "    </tr>\n",
              "    <tr>\n",
              "      <th>4</th>\n",
              "      <td>80</td>\n",
              "      <td>3</td>\n",
              "      <td>11</td>\n",
              "      <td>800311</td>\n",
              "      <td>-0.02</td>\n",
              "      <td>-109.46</td>\n",
              "      <td>-4.2</td>\n",
              "      <td>1.5</td>\n",
              "      <td>NaN</td>\n",
              "      <td>25.30</td>\n",
              "      <td>23.19</td>\n",
              "    </tr>\n",
              "  </tbody>\n",
              "</table>\n",
              "</div>\n",
              "    <div class=\"colab-df-buttons\">\n",
              "\n",
              "  <div class=\"colab-df-container\">\n",
              "    <button class=\"colab-df-convert\" onclick=\"convertToInteractive('df-ab2f62ef-1c23-4b9a-84df-2236f6cabe8c')\"\n",
              "            title=\"Convert this dataframe to an interactive table.\"\n",
              "            style=\"display:none;\">\n",
              "\n",
              "  <svg xmlns=\"http://www.w3.org/2000/svg\" height=\"24px\" viewBox=\"0 -960 960 960\">\n",
              "    <path d=\"M120-120v-720h720v720H120Zm60-500h600v-160H180v160Zm220 220h160v-160H400v160Zm0 220h160v-160H400v160ZM180-400h160v-160H180v160Zm440 0h160v-160H620v160ZM180-180h160v-160H180v160Zm440 0h160v-160H620v160Z\"/>\n",
              "  </svg>\n",
              "    </button>\n",
              "\n",
              "  <style>\n",
              "    .colab-df-container {\n",
              "      display:flex;\n",
              "      gap: 12px;\n",
              "    }\n",
              "\n",
              "    .colab-df-convert {\n",
              "      background-color: #E8F0FE;\n",
              "      border: none;\n",
              "      border-radius: 50%;\n",
              "      cursor: pointer;\n",
              "      display: none;\n",
              "      fill: #1967D2;\n",
              "      height: 32px;\n",
              "      padding: 0 0 0 0;\n",
              "      width: 32px;\n",
              "    }\n",
              "\n",
              "    .colab-df-convert:hover {\n",
              "      background-color: #E2EBFA;\n",
              "      box-shadow: 0px 1px 2px rgba(60, 64, 67, 0.3), 0px 1px 3px 1px rgba(60, 64, 67, 0.15);\n",
              "      fill: #174EA6;\n",
              "    }\n",
              "\n",
              "    .colab-df-buttons div {\n",
              "      margin-bottom: 4px;\n",
              "    }\n",
              "\n",
              "    [theme=dark] .colab-df-convert {\n",
              "      background-color: #3B4455;\n",
              "      fill: #D2E3FC;\n",
              "    }\n",
              "\n",
              "    [theme=dark] .colab-df-convert:hover {\n",
              "      background-color: #434B5C;\n",
              "      box-shadow: 0px 1px 3px 1px rgba(0, 0, 0, 0.15);\n",
              "      filter: drop-shadow(0px 1px 2px rgba(0, 0, 0, 0.3));\n",
              "      fill: #FFFFFF;\n",
              "    }\n",
              "  </style>\n",
              "\n",
              "    <script>\n",
              "      const buttonEl =\n",
              "        document.querySelector('#df-ab2f62ef-1c23-4b9a-84df-2236f6cabe8c button.colab-df-convert');\n",
              "      buttonEl.style.display =\n",
              "        google.colab.kernel.accessAllowed ? 'block' : 'none';\n",
              "\n",
              "      async function convertToInteractive(key) {\n",
              "        const element = document.querySelector('#df-ab2f62ef-1c23-4b9a-84df-2236f6cabe8c');\n",
              "        const dataTable =\n",
              "          await google.colab.kernel.invokeFunction('convertToInteractive',\n",
              "                                                    [key], {});\n",
              "        if (!dataTable) return;\n",
              "\n",
              "        const docLinkHtml = 'Like what you see? Visit the ' +\n",
              "          '<a target=\"_blank\" href=https://colab.research.google.com/notebooks/data_table.ipynb>data table notebook</a>'\n",
              "          + ' to learn more about interactive tables.';\n",
              "        element.innerHTML = '';\n",
              "        dataTable['output_type'] = 'display_data';\n",
              "        await google.colab.output.renderOutput(dataTable, element);\n",
              "        const docLink = document.createElement('div');\n",
              "        docLink.innerHTML = docLinkHtml;\n",
              "        element.appendChild(docLink);\n",
              "      }\n",
              "    </script>\n",
              "  </div>\n",
              "\n",
              "\n",
              "<div id=\"df-2659bd9d-24d9-48a4-857e-beaf03a8afcb\">\n",
              "  <button class=\"colab-df-quickchart\" onclick=\"quickchart('df-2659bd9d-24d9-48a4-857e-beaf03a8afcb')\"\n",
              "            title=\"Suggest charts\"\n",
              "            style=\"display:none;\">\n",
              "\n",
              "<svg xmlns=\"http://www.w3.org/2000/svg\" height=\"24px\"viewBox=\"0 0 24 24\"\n",
              "     width=\"24px\">\n",
              "    <g>\n",
              "        <path d=\"M19 3H5c-1.1 0-2 .9-2 2v14c0 1.1.9 2 2 2h14c1.1 0 2-.9 2-2V5c0-1.1-.9-2-2-2zM9 17H7v-7h2v7zm4 0h-2V7h2v10zm4 0h-2v-4h2v4z\"/>\n",
              "    </g>\n",
              "</svg>\n",
              "  </button>\n",
              "\n",
              "<style>\n",
              "  .colab-df-quickchart {\n",
              "      --bg-color: #E8F0FE;\n",
              "      --fill-color: #1967D2;\n",
              "      --hover-bg-color: #E2EBFA;\n",
              "      --hover-fill-color: #174EA6;\n",
              "      --disabled-fill-color: #AAA;\n",
              "      --disabled-bg-color: #DDD;\n",
              "  }\n",
              "\n",
              "  [theme=dark] .colab-df-quickchart {\n",
              "      --bg-color: #3B4455;\n",
              "      --fill-color: #D2E3FC;\n",
              "      --hover-bg-color: #434B5C;\n",
              "      --hover-fill-color: #FFFFFF;\n",
              "      --disabled-bg-color: #3B4455;\n",
              "      --disabled-fill-color: #666;\n",
              "  }\n",
              "\n",
              "  .colab-df-quickchart {\n",
              "    background-color: var(--bg-color);\n",
              "    border: none;\n",
              "    border-radius: 50%;\n",
              "    cursor: pointer;\n",
              "    display: none;\n",
              "    fill: var(--fill-color);\n",
              "    height: 32px;\n",
              "    padding: 0;\n",
              "    width: 32px;\n",
              "  }\n",
              "\n",
              "  .colab-df-quickchart:hover {\n",
              "    background-color: var(--hover-bg-color);\n",
              "    box-shadow: 0 1px 2px rgba(60, 64, 67, 0.3), 0 1px 3px 1px rgba(60, 64, 67, 0.15);\n",
              "    fill: var(--button-hover-fill-color);\n",
              "  }\n",
              "\n",
              "  .colab-df-quickchart-complete:disabled,\n",
              "  .colab-df-quickchart-complete:disabled:hover {\n",
              "    background-color: var(--disabled-bg-color);\n",
              "    fill: var(--disabled-fill-color);\n",
              "    box-shadow: none;\n",
              "  }\n",
              "\n",
              "  .colab-df-spinner {\n",
              "    border: 2px solid var(--fill-color);\n",
              "    border-color: transparent;\n",
              "    border-bottom-color: var(--fill-color);\n",
              "    animation:\n",
              "      spin 1s steps(1) infinite;\n",
              "  }\n",
              "\n",
              "  @keyframes spin {\n",
              "    0% {\n",
              "      border-color: transparent;\n",
              "      border-bottom-color: var(--fill-color);\n",
              "      border-left-color: var(--fill-color);\n",
              "    }\n",
              "    20% {\n",
              "      border-color: transparent;\n",
              "      border-left-color: var(--fill-color);\n",
              "      border-top-color: var(--fill-color);\n",
              "    }\n",
              "    30% {\n",
              "      border-color: transparent;\n",
              "      border-left-color: var(--fill-color);\n",
              "      border-top-color: var(--fill-color);\n",
              "      border-right-color: var(--fill-color);\n",
              "    }\n",
              "    40% {\n",
              "      border-color: transparent;\n",
              "      border-right-color: var(--fill-color);\n",
              "      border-top-color: var(--fill-color);\n",
              "    }\n",
              "    60% {\n",
              "      border-color: transparent;\n",
              "      border-right-color: var(--fill-color);\n",
              "    }\n",
              "    80% {\n",
              "      border-color: transparent;\n",
              "      border-right-color: var(--fill-color);\n",
              "      border-bottom-color: var(--fill-color);\n",
              "    }\n",
              "    90% {\n",
              "      border-color: transparent;\n",
              "      border-bottom-color: var(--fill-color);\n",
              "    }\n",
              "  }\n",
              "</style>\n",
              "\n",
              "  <script>\n",
              "    async function quickchart(key) {\n",
              "      const quickchartButtonEl =\n",
              "        document.querySelector('#' + key + ' button');\n",
              "      quickchartButtonEl.disabled = true;  // To prevent multiple clicks.\n",
              "      quickchartButtonEl.classList.add('colab-df-spinner');\n",
              "      try {\n",
              "        const charts = await google.colab.kernel.invokeFunction(\n",
              "            'suggestCharts', [key], {});\n",
              "      } catch (error) {\n",
              "        console.error('Error during call to suggestCharts:', error);\n",
              "      }\n",
              "      quickchartButtonEl.classList.remove('colab-df-spinner');\n",
              "      quickchartButtonEl.classList.add('colab-df-quickchart-complete');\n",
              "    }\n",
              "    (() => {\n",
              "      let quickchartButtonEl =\n",
              "        document.querySelector('#df-2659bd9d-24d9-48a4-857e-beaf03a8afcb button');\n",
              "      quickchartButtonEl.style.display =\n",
              "        google.colab.kernel.accessAllowed ? 'block' : 'none';\n",
              "    })();\n",
              "  </script>\n",
              "</div>\n",
              "\n",
              "    </div>\n",
              "  </div>\n"
            ],
            "application/vnd.google.colaboratory.intrinsic+json": {
              "type": "dataframe",
              "variable_name": "remoteStations"
            }
          },
          "metadata": {},
          "execution_count": 8
        }
      ]
    },
    {
      "cell_type": "code",
      "source": [
        "# Github cloning data\n",
        "! wget https://raw.githubusercontent.com/laketalkemp/DATA-302_SP24/main/data/faostat_country_codes.csv\n",
        "\n",
        "# Convert to dataframes\n",
        "faostat_country_codes = pd.read_csv(\"faostat_country_codes.csv\")\n",
        "\n",
        "# Read the first five rows of data\n",
        "faostat_country_codes.head()"
      ],
      "metadata": {
        "colab": {
          "base_uri": "https://localhost:8080/",
          "height": 417
        },
        "id": "t2KRN0G09k3S",
        "outputId": "d180c5f2-e397-48c9-999f-f45e59d44919"
      },
      "execution_count": null,
      "outputs": [
        {
          "output_type": "stream",
          "name": "stdout",
          "text": [
            "--2024-06-19 19:27:21--  https://raw.githubusercontent.com/laketalkemp/DATA-302_SP24/main/data/faostat_country_codes.csv\n",
            "Resolving raw.githubusercontent.com (raw.githubusercontent.com)... 185.199.108.133, 185.199.111.133, 185.199.109.133, ...\n",
            "Connecting to raw.githubusercontent.com (raw.githubusercontent.com)|185.199.108.133|:443... connected.\n",
            "HTTP request sent, awaiting response... 200 OK\n",
            "Length: 12601 (12K) [text/plain]\n",
            "Saving to: ‘faostat_country_codes.csv’\n",
            "\n",
            "faostat_country_cod 100%[===================>]  12.31K  --.-KB/s    in 0s      \n",
            "\n",
            "2024-06-19 19:27:21 (29.3 MB/s) - ‘faostat_country_codes.csv’ saved [12601/12601]\n",
            "\n"
          ]
        },
        {
          "output_type": "execute_result",
          "data": {
            "text/plain": [
              "   Country Code        Country  M49 Code ISO2 Code ISO3 Code  Start Year  \\\n",
              "0             2    Afghanistan         4        AF       AFG         NaN   \n",
              "1          5100         Africa         2     F5100       X06         NaN   \n",
              "2           284  Åland Islands       248      F284       ALA         NaN   \n",
              "3             3        Albania         8        AL       ALB         NaN   \n",
              "4             4        Algeria        12        DZ       DZA         NaN   \n",
              "\n",
              "   End Year  \n",
              "0       NaN  \n",
              "1       NaN  \n",
              "2       NaN  \n",
              "3       NaN  \n",
              "4       NaN  "
            ],
            "text/html": [
              "\n",
              "  <div id=\"df-d0f5f097-6515-4388-9fc1-c557763079fb\" class=\"colab-df-container\">\n",
              "    <div>\n",
              "<style scoped>\n",
              "    .dataframe tbody tr th:only-of-type {\n",
              "        vertical-align: middle;\n",
              "    }\n",
              "\n",
              "    .dataframe tbody tr th {\n",
              "        vertical-align: top;\n",
              "    }\n",
              "\n",
              "    .dataframe thead th {\n",
              "        text-align: right;\n",
              "    }\n",
              "</style>\n",
              "<table border=\"1\" class=\"dataframe\">\n",
              "  <thead>\n",
              "    <tr style=\"text-align: right;\">\n",
              "      <th></th>\n",
              "      <th>Country Code</th>\n",
              "      <th>Country</th>\n",
              "      <th>M49 Code</th>\n",
              "      <th>ISO2 Code</th>\n",
              "      <th>ISO3 Code</th>\n",
              "      <th>Start Year</th>\n",
              "      <th>End Year</th>\n",
              "    </tr>\n",
              "  </thead>\n",
              "  <tbody>\n",
              "    <tr>\n",
              "      <th>0</th>\n",
              "      <td>2</td>\n",
              "      <td>Afghanistan</td>\n",
              "      <td>4</td>\n",
              "      <td>AF</td>\n",
              "      <td>AFG</td>\n",
              "      <td>NaN</td>\n",
              "      <td>NaN</td>\n",
              "    </tr>\n",
              "    <tr>\n",
              "      <th>1</th>\n",
              "      <td>5100</td>\n",
              "      <td>Africa</td>\n",
              "      <td>2</td>\n",
              "      <td>F5100</td>\n",
              "      <td>X06</td>\n",
              "      <td>NaN</td>\n",
              "      <td>NaN</td>\n",
              "    </tr>\n",
              "    <tr>\n",
              "      <th>2</th>\n",
              "      <td>284</td>\n",
              "      <td>Åland Islands</td>\n",
              "      <td>248</td>\n",
              "      <td>F284</td>\n",
              "      <td>ALA</td>\n",
              "      <td>NaN</td>\n",
              "      <td>NaN</td>\n",
              "    </tr>\n",
              "    <tr>\n",
              "      <th>3</th>\n",
              "      <td>3</td>\n",
              "      <td>Albania</td>\n",
              "      <td>8</td>\n",
              "      <td>AL</td>\n",
              "      <td>ALB</td>\n",
              "      <td>NaN</td>\n",
              "      <td>NaN</td>\n",
              "    </tr>\n",
              "    <tr>\n",
              "      <th>4</th>\n",
              "      <td>4</td>\n",
              "      <td>Algeria</td>\n",
              "      <td>12</td>\n",
              "      <td>DZ</td>\n",
              "      <td>DZA</td>\n",
              "      <td>NaN</td>\n",
              "      <td>NaN</td>\n",
              "    </tr>\n",
              "  </tbody>\n",
              "</table>\n",
              "</div>\n",
              "    <div class=\"colab-df-buttons\">\n",
              "\n",
              "  <div class=\"colab-df-container\">\n",
              "    <button class=\"colab-df-convert\" onclick=\"convertToInteractive('df-d0f5f097-6515-4388-9fc1-c557763079fb')\"\n",
              "            title=\"Convert this dataframe to an interactive table.\"\n",
              "            style=\"display:none;\">\n",
              "\n",
              "  <svg xmlns=\"http://www.w3.org/2000/svg\" height=\"24px\" viewBox=\"0 -960 960 960\">\n",
              "    <path d=\"M120-120v-720h720v720H120Zm60-500h600v-160H180v160Zm220 220h160v-160H400v160Zm0 220h160v-160H400v160ZM180-400h160v-160H180v160Zm440 0h160v-160H620v160ZM180-180h160v-160H180v160Zm440 0h160v-160H620v160Z\"/>\n",
              "  </svg>\n",
              "    </button>\n",
              "\n",
              "  <style>\n",
              "    .colab-df-container {\n",
              "      display:flex;\n",
              "      gap: 12px;\n",
              "    }\n",
              "\n",
              "    .colab-df-convert {\n",
              "      background-color: #E8F0FE;\n",
              "      border: none;\n",
              "      border-radius: 50%;\n",
              "      cursor: pointer;\n",
              "      display: none;\n",
              "      fill: #1967D2;\n",
              "      height: 32px;\n",
              "      padding: 0 0 0 0;\n",
              "      width: 32px;\n",
              "    }\n",
              "\n",
              "    .colab-df-convert:hover {\n",
              "      background-color: #E2EBFA;\n",
              "      box-shadow: 0px 1px 2px rgba(60, 64, 67, 0.3), 0px 1px 3px 1px rgba(60, 64, 67, 0.15);\n",
              "      fill: #174EA6;\n",
              "    }\n",
              "\n",
              "    .colab-df-buttons div {\n",
              "      margin-bottom: 4px;\n",
              "    }\n",
              "\n",
              "    [theme=dark] .colab-df-convert {\n",
              "      background-color: #3B4455;\n",
              "      fill: #D2E3FC;\n",
              "    }\n",
              "\n",
              "    [theme=dark] .colab-df-convert:hover {\n",
              "      background-color: #434B5C;\n",
              "      box-shadow: 0px 1px 3px 1px rgba(0, 0, 0, 0.15);\n",
              "      filter: drop-shadow(0px 1px 2px rgba(0, 0, 0, 0.3));\n",
              "      fill: #FFFFFF;\n",
              "    }\n",
              "  </style>\n",
              "\n",
              "    <script>\n",
              "      const buttonEl =\n",
              "        document.querySelector('#df-d0f5f097-6515-4388-9fc1-c557763079fb button.colab-df-convert');\n",
              "      buttonEl.style.display =\n",
              "        google.colab.kernel.accessAllowed ? 'block' : 'none';\n",
              "\n",
              "      async function convertToInteractive(key) {\n",
              "        const element = document.querySelector('#df-d0f5f097-6515-4388-9fc1-c557763079fb');\n",
              "        const dataTable =\n",
              "          await google.colab.kernel.invokeFunction('convertToInteractive',\n",
              "                                                    [key], {});\n",
              "        if (!dataTable) return;\n",
              "\n",
              "        const docLinkHtml = 'Like what you see? Visit the ' +\n",
              "          '<a target=\"_blank\" href=https://colab.research.google.com/notebooks/data_table.ipynb>data table notebook</a>'\n",
              "          + ' to learn more about interactive tables.';\n",
              "        element.innerHTML = '';\n",
              "        dataTable['output_type'] = 'display_data';\n",
              "        await google.colab.output.renderOutput(dataTable, element);\n",
              "        const docLink = document.createElement('div');\n",
              "        docLink.innerHTML = docLinkHtml;\n",
              "        element.appendChild(docLink);\n",
              "      }\n",
              "    </script>\n",
              "  </div>\n",
              "\n",
              "\n",
              "<div id=\"df-8fe77986-d46e-469b-9f12-d7b2b91e9e3e\">\n",
              "  <button class=\"colab-df-quickchart\" onclick=\"quickchart('df-8fe77986-d46e-469b-9f12-d7b2b91e9e3e')\"\n",
              "            title=\"Suggest charts\"\n",
              "            style=\"display:none;\">\n",
              "\n",
              "<svg xmlns=\"http://www.w3.org/2000/svg\" height=\"24px\"viewBox=\"0 0 24 24\"\n",
              "     width=\"24px\">\n",
              "    <g>\n",
              "        <path d=\"M19 3H5c-1.1 0-2 .9-2 2v14c0 1.1.9 2 2 2h14c1.1 0 2-.9 2-2V5c0-1.1-.9-2-2-2zM9 17H7v-7h2v7zm4 0h-2V7h2v10zm4 0h-2v-4h2v4z\"/>\n",
              "    </g>\n",
              "</svg>\n",
              "  </button>\n",
              "\n",
              "<style>\n",
              "  .colab-df-quickchart {\n",
              "      --bg-color: #E8F0FE;\n",
              "      --fill-color: #1967D2;\n",
              "      --hover-bg-color: #E2EBFA;\n",
              "      --hover-fill-color: #174EA6;\n",
              "      --disabled-fill-color: #AAA;\n",
              "      --disabled-bg-color: #DDD;\n",
              "  }\n",
              "\n",
              "  [theme=dark] .colab-df-quickchart {\n",
              "      --bg-color: #3B4455;\n",
              "      --fill-color: #D2E3FC;\n",
              "      --hover-bg-color: #434B5C;\n",
              "      --hover-fill-color: #FFFFFF;\n",
              "      --disabled-bg-color: #3B4455;\n",
              "      --disabled-fill-color: #666;\n",
              "  }\n",
              "\n",
              "  .colab-df-quickchart {\n",
              "    background-color: var(--bg-color);\n",
              "    border: none;\n",
              "    border-radius: 50%;\n",
              "    cursor: pointer;\n",
              "    display: none;\n",
              "    fill: var(--fill-color);\n",
              "    height: 32px;\n",
              "    padding: 0;\n",
              "    width: 32px;\n",
              "  }\n",
              "\n",
              "  .colab-df-quickchart:hover {\n",
              "    background-color: var(--hover-bg-color);\n",
              "    box-shadow: 0 1px 2px rgba(60, 64, 67, 0.3), 0 1px 3px 1px rgba(60, 64, 67, 0.15);\n",
              "    fill: var(--button-hover-fill-color);\n",
              "  }\n",
              "\n",
              "  .colab-df-quickchart-complete:disabled,\n",
              "  .colab-df-quickchart-complete:disabled:hover {\n",
              "    background-color: var(--disabled-bg-color);\n",
              "    fill: var(--disabled-fill-color);\n",
              "    box-shadow: none;\n",
              "  }\n",
              "\n",
              "  .colab-df-spinner {\n",
              "    border: 2px solid var(--fill-color);\n",
              "    border-color: transparent;\n",
              "    border-bottom-color: var(--fill-color);\n",
              "    animation:\n",
              "      spin 1s steps(1) infinite;\n",
              "  }\n",
              "\n",
              "  @keyframes spin {\n",
              "    0% {\n",
              "      border-color: transparent;\n",
              "      border-bottom-color: var(--fill-color);\n",
              "      border-left-color: var(--fill-color);\n",
              "    }\n",
              "    20% {\n",
              "      border-color: transparent;\n",
              "      border-left-color: var(--fill-color);\n",
              "      border-top-color: var(--fill-color);\n",
              "    }\n",
              "    30% {\n",
              "      border-color: transparent;\n",
              "      border-left-color: var(--fill-color);\n",
              "      border-top-color: var(--fill-color);\n",
              "      border-right-color: var(--fill-color);\n",
              "    }\n",
              "    40% {\n",
              "      border-color: transparent;\n",
              "      border-right-color: var(--fill-color);\n",
              "      border-top-color: var(--fill-color);\n",
              "    }\n",
              "    60% {\n",
              "      border-color: transparent;\n",
              "      border-right-color: var(--fill-color);\n",
              "    }\n",
              "    80% {\n",
              "      border-color: transparent;\n",
              "      border-right-color: var(--fill-color);\n",
              "      border-bottom-color: var(--fill-color);\n",
              "    }\n",
              "    90% {\n",
              "      border-color: transparent;\n",
              "      border-bottom-color: var(--fill-color);\n",
              "    }\n",
              "  }\n",
              "</style>\n",
              "\n",
              "  <script>\n",
              "    async function quickchart(key) {\n",
              "      const quickchartButtonEl =\n",
              "        document.querySelector('#' + key + ' button');\n",
              "      quickchartButtonEl.disabled = true;  // To prevent multiple clicks.\n",
              "      quickchartButtonEl.classList.add('colab-df-spinner');\n",
              "      try {\n",
              "        const charts = await google.colab.kernel.invokeFunction(\n",
              "            'suggestCharts', [key], {});\n",
              "      } catch (error) {\n",
              "        console.error('Error during call to suggestCharts:', error);\n",
              "      }\n",
              "      quickchartButtonEl.classList.remove('colab-df-spinner');\n",
              "      quickchartButtonEl.classList.add('colab-df-quickchart-complete');\n",
              "    }\n",
              "    (() => {\n",
              "      let quickchartButtonEl =\n",
              "        document.querySelector('#df-8fe77986-d46e-469b-9f12-d7b2b91e9e3e button');\n",
              "      quickchartButtonEl.style.display =\n",
              "        google.colab.kernel.accessAllowed ? 'block' : 'none';\n",
              "    })();\n",
              "  </script>\n",
              "</div>\n",
              "\n",
              "    </div>\n",
              "  </div>\n"
            ],
            "application/vnd.google.colaboratory.intrinsic+json": {
              "type": "dataframe",
              "variable_name": "faostat_country_codes",
              "summary": "{\n  \"name\": \"faostat_country_codes\",\n  \"rows\": 345,\n  \"fields\": [\n    {\n      \"column\": \"Country Code\",\n      \"properties\": {\n        \"dtype\": \"number\",\n        \"std\": 20102,\n        \"min\": 1,\n        \"max\": 99032,\n        \"num_unique_values\": 345,\n        \"samples\": [\n          136,\n          104,\n          154\n        ],\n        \"semantic_type\": \"\",\n        \"description\": \"\"\n      }\n    },\n    {\n      \"column\": \"Country\",\n      \"properties\": {\n        \"dtype\": \"string\",\n        \"num_unique_values\": 345,\n        \"samples\": [\n          \"Mauritania\",\n          \"Ireland\",\n          \"North Macedonia\"\n        ],\n        \"semantic_type\": \"\",\n        \"description\": \"\"\n      }\n    },\n    {\n      \"column\": \"M49 Code\",\n      \"properties\": {\n        \"dtype\": \"number\",\n        \"std\": 20138,\n        \"min\": 1,\n        \"max\": 99032,\n        \"num_unique_values\": 345,\n        \"samples\": [\n          478,\n          372,\n          807\n        ],\n        \"semantic_type\": \"\",\n        \"description\": \"\"\n      }\n    },\n    {\n      \"column\": \"ISO2 Code\",\n      \"properties\": {\n        \"dtype\": \"string\",\n        \"num_unique_values\": 343,\n        \"samples\": [\n          \"PW\",\n          \"F99031\",\n          \"F99018\"\n        ],\n        \"semantic_type\": \"\",\n        \"description\": \"\"\n      }\n    },\n    {\n      \"column\": \"ISO3 Code\",\n      \"properties\": {\n        \"dtype\": \"string\",\n        \"num_unique_values\": 344,\n        \"samples\": [\n          \"MUS\",\n          \"IMN\",\n          \"F5103\"\n        ],\n        \"semantic_type\": \"\",\n        \"description\": \"\"\n      }\n    },\n    {\n      \"column\": \"Start Year\",\n      \"properties\": {\n        \"dtype\": \"number\",\n        \"std\": 7.79918331999187,\n        \"min\": 1991.0,\n        \"max\": 2012.0,\n        \"num_unique_values\": 7,\n        \"samples\": [\n          1992.0,\n          2000.0,\n          2006.0\n        ],\n        \"semantic_type\": \"\",\n        \"description\": \"\"\n      }\n    },\n    {\n      \"column\": \"End Year\",\n      \"properties\": {\n        \"dtype\": \"number\",\n        \"std\": 8.637772346566624,\n        \"min\": 1990.0,\n        \"max\": 2011.0,\n        \"num_unique_values\": 7,\n        \"samples\": [\n          1999.0,\n          1992.0,\n          2011.0\n        ],\n        \"semantic_type\": \"\",\n        \"description\": \"\"\n      }\n    }\n  ]\n}"
            }
          },
          "metadata": {},
          "execution_count": 9
        }
      ]
    },
    {
      "cell_type": "markdown",
      "source": [
        "# Lists"
      ],
      "metadata": {
        "id": "o11TYNKQtEIi"
      }
    },
    {
      "cell_type": "code",
      "source": [
        "# Creating a list\n",
        "actors = [\"Chadwick Boseman\", \"Denzel Washington\", \"Viola Davis\"]\n",
        "\n",
        "# Calling the list to read the contents\n",
        "actors"
      ],
      "metadata": {
        "colab": {
          "base_uri": "https://localhost:8080/"
        },
        "id": "H9ltPBLItGjQ",
        "outputId": "763d82bd-4190-4755-cd86-09498017b9c1"
      },
      "execution_count": null,
      "outputs": [
        {
          "output_type": "execute_result",
          "data": {
            "text/plain": [
              "['Chadwick Boseman', 'Denzel Washington', 'Viola Davis']"
            ]
          },
          "metadata": {},
          "execution_count": 10
        }
      ]
    },
    {
      "cell_type": "code",
      "source": [
        "# Checking the data type of a variable\n",
        "type(actors)"
      ],
      "metadata": {
        "colab": {
          "base_uri": "https://localhost:8080/"
        },
        "id": "gHC6I3LUtflG",
        "outputId": "6e896c5a-3161-4dfe-d0e4-dc0dc2d4f9a5"
      },
      "execution_count": null,
      "outputs": [
        {
          "output_type": "execute_result",
          "data": {
            "text/plain": [
              "list"
            ]
          },
          "metadata": {},
          "execution_count": 11
        }
      ]
    },
    {
      "cell_type": "code",
      "source": [
        "# Find the item in a list by the index\n",
        "# Python indexes from zero\n",
        "# An index of -1 is the last element in the list\n",
        "actors[-1]"
      ],
      "metadata": {
        "colab": {
          "base_uri": "https://localhost:8080/",
          "height": 35
        },
        "id": "yCW-kXWUtiKn",
        "outputId": "f2858ceb-6f65-4107-bb55-f6e4f523cdd7"
      },
      "execution_count": null,
      "outputs": [
        {
          "output_type": "execute_result",
          "data": {
            "text/plain": [
              "'Viola Davis'"
            ],
            "application/vnd.google.colaboratory.intrinsic+json": {
              "type": "string"
            }
          },
          "metadata": {},
          "execution_count": 12
        }
      ]
    },
    {
      "cell_type": "code",
      "source": [
        "# Find the item in a list by the index\n",
        "# Find the first element in the list\n",
        "actors[0]"
      ],
      "metadata": {
        "colab": {
          "base_uri": "https://localhost:8080/",
          "height": 35
        },
        "id": "bwJhl99Vt3Z2",
        "outputId": "9e049c61-7e62-4d80-fbce-491536f08942"
      },
      "execution_count": null,
      "outputs": [
        {
          "output_type": "execute_result",
          "data": {
            "text/plain": [
              "'Chadwick Boseman'"
            ],
            "application/vnd.google.colaboratory.intrinsic+json": {
              "type": "string"
            }
          },
          "metadata": {},
          "execution_count": 13
        }
      ]
    },
    {
      "cell_type": "code",
      "source": [
        "# Create a new list\n",
        "# A an empty list can be created with empty brackets\n",
        "new_list = []\n",
        "\n",
        "# Adding elements to the list\n",
        "# Call the name of the list and set it equal to the new elements\n",
        "# A list can be mixed data types\n",
        "# Elements are added enclosed in square brackets and separated by a comma\n",
        "# List elements obey data type syntax, strings are enclosed in quotes\n",
        "new_list = [7, 4.5, \"educator\", False]"
      ],
      "metadata": {
        "id": "v2Rjiufzt6Mz"
      },
      "execution_count": null,
      "outputs": []
    },
    {
      "cell_type": "code",
      "source": [
        "# A list can be created that iterates through a series\n",
        "# This is called a list comprehension\n",
        "# Create a list of elements starting at zero, counting up to 1000, by 100\n",
        "# Syntax for range function: range(start, stop, step)\n",
        "my_list = [i for i in range(0,1001,100)]\n",
        "my_list"
      ],
      "metadata": {
        "colab": {
          "base_uri": "https://localhost:8080/"
        },
        "id": "ZM396rE3uHy1",
        "outputId": "cdf7dc9b-4225-4308-d624-441353b794a9"
      },
      "execution_count": null,
      "outputs": [
        {
          "output_type": "execute_result",
          "data": {
            "text/plain": [
              "[0, 100, 200, 300, 400, 500, 600, 700, 800, 900, 1000]"
            ]
          },
          "metadata": {},
          "execution_count": 18
        }
      ]
    },
    {
      "cell_type": "code",
      "source": [
        "# You can add an element to a list in a particular position\n",
        "# Call the list name and the index in brackets and set this equal to the value\n",
        "my_list[3] = \"three hundred\"\n",
        "my_list"
      ],
      "metadata": {
        "colab": {
          "base_uri": "https://localhost:8080/"
        },
        "id": "0r8a5woCuYOC",
        "outputId": "5593d37d-b908-4247-b805-76082389a86c"
      },
      "execution_count": null,
      "outputs": [
        {
          "output_type": "execute_result",
          "data": {
            "text/plain": [
              "[0, 100, 200, 'three hundred', 400, 500, 600, 700, 800, 900, 1000]"
            ]
          },
          "metadata": {},
          "execution_count": 19
        }
      ]
    },
    {
      "cell_type": "code",
      "source": [
        "# Lists can be concatenated, even with mixed data types\n",
        "oglist = my_list + new_list\n",
        "oglist"
      ],
      "metadata": {
        "colab": {
          "base_uri": "https://localhost:8080/"
        },
        "id": "t5iEaCe4uz0B",
        "outputId": "b9d3783c-45f7-44ba-ec2b-da00da71db58"
      },
      "execution_count": null,
      "outputs": [
        {
          "output_type": "execute_result",
          "data": {
            "text/plain": [
              "[0,\n",
              " 100,\n",
              " 200,\n",
              " 'three hundred',\n",
              " 400,\n",
              " 500,\n",
              " 600,\n",
              " 700,\n",
              " 800,\n",
              " 900,\n",
              " 1000,\n",
              " 7,\n",
              " 4.5,\n",
              " 'educator',\n",
              " False]"
            ]
          },
          "metadata": {},
          "execution_count": 20
        }
      ]
    },
    {
      "cell_type": "code",
      "source": [
        "# Check the data type of the new list\n",
        "type(oglist)"
      ],
      "metadata": {
        "colab": {
          "base_uri": "https://localhost:8080/"
        },
        "id": "lG0SPu3lu-gK",
        "outputId": "e498a5cc-2e35-4bf3-8955-2da1f5c33bd9"
      },
      "execution_count": null,
      "outputs": [
        {
          "output_type": "execute_result",
          "data": {
            "text/plain": [
              "list"
            ]
          },
          "metadata": {},
          "execution_count": 21
        }
      ]
    },
    {
      "cell_type": "code",
      "source": [
        "# You can create a subset of a list and declare it as a new variable\n",
        "# Name the new list and set it equal to the slice of the list you want\n",
        "# The syntax looks like: listName[start:stop]\n",
        "# The stop is not inclusive, always add one to the stop to make sure your value is included\n",
        "west_coast = oglist[3:7]\n",
        "west_coast"
      ],
      "metadata": {
        "colab": {
          "base_uri": "https://localhost:8080/"
        },
        "id": "QGJ8elpovER-",
        "outputId": "724c11c1-193f-4fde-bfda-ec00a5dd7954"
      },
      "execution_count": null,
      "outputs": [
        {
          "output_type": "execute_result",
          "data": {
            "text/plain": [
              "['three hundred', 400, 500, 600]"
            ]
          },
          "metadata": {},
          "execution_count": 43
        }
      ]
    },
    {
      "cell_type": "code",
      "source": [
        "# You can add to a list using the .append() function\n",
        "# Appended items are added to the end of the list\n",
        "west_coast.append(\"Stinson Beach\")\n",
        "west_coast"
      ],
      "metadata": {
        "colab": {
          "base_uri": "https://localhost:8080/"
        },
        "id": "VXEx7_j5vaMx",
        "outputId": "34a5684e-5035-4f35-ce7c-b1816769632a"
      },
      "execution_count": null,
      "outputs": [
        {
          "output_type": "execute_result",
          "data": {
            "text/plain": [
              "['three hundred', 400, 500, 600, 'Stinson Beach']"
            ]
          },
          "metadata": {},
          "execution_count": 44
        }
      ]
    },
    {
      "cell_type": "code",
      "source": [
        "# Using the print function is the same as calling a variable\n",
        "print(west_coast)"
      ],
      "metadata": {
        "colab": {
          "base_uri": "https://localhost:8080/"
        },
        "id": "Rrwy9sgXv2k9",
        "outputId": "32961a52-8210-47e2-dd8d-92f57f55825e"
      },
      "execution_count": null,
      "outputs": [
        {
          "output_type": "stream",
          "name": "stdout",
          "text": [
            "['three hundred', 400, 500, 600, 'Stinson Beach']\n"
          ]
        }
      ]
    },
    {
      "cell_type": "code",
      "source": [
        "# You can remove the last item from the list with .pop()\n",
        "west_coast.pop()"
      ],
      "metadata": {
        "colab": {
          "base_uri": "https://localhost:8080/",
          "height": 35
        },
        "id": "GLdjgEo6vsN6",
        "outputId": "e5a317e0-43f6-4616-f09f-ad81cfc10a75"
      },
      "execution_count": null,
      "outputs": [
        {
          "output_type": "execute_result",
          "data": {
            "text/plain": [
              "'Stinson Beach'"
            ],
            "application/vnd.google.colaboratory.intrinsic+json": {
              "type": "string"
            }
          },
          "metadata": {},
          "execution_count": 46
        }
      ]
    },
    {
      "cell_type": "code",
      "source": [
        "# Check the list again\n",
        "west_coast"
      ],
      "metadata": {
        "colab": {
          "base_uri": "https://localhost:8080/"
        },
        "id": "g4RLrKUiwSpn",
        "outputId": "4332b298-7c88-47bb-82f8-a7cb0e3893ba"
      },
      "execution_count": null,
      "outputs": [
        {
          "output_type": "execute_result",
          "data": {
            "text/plain": [
              "['three hundred', 400, 500, 600]"
            ]
          },
          "metadata": {},
          "execution_count": 47
        }
      ]
    },
    {
      "cell_type": "code",
      "source": [
        "# You can add an item to the list with the .insert(index,value) method\n",
        "west_coast.insert(0,\"Stinson Beach\")\n",
        "west_coast"
      ],
      "metadata": {
        "colab": {
          "base_uri": "https://localhost:8080/"
        },
        "id": "3qb868UvwUsS",
        "outputId": "cd8b2f37-570e-44c1-9ac8-501bf0e0a93c"
      },
      "execution_count": null,
      "outputs": [
        {
          "output_type": "execute_result",
          "data": {
            "text/plain": [
              "['Stinson Beach', 'three hundred', 400, 500, 600]"
            ]
          },
          "metadata": {},
          "execution_count": 48
        }
      ]
    },
    {
      "cell_type": "code",
      "source": [
        "# Now when we use .pop() the last item in the list is removed\n",
        "# Note this is the last item in the list not the last added item\n",
        "west_coast.pop()"
      ],
      "metadata": {
        "colab": {
          "base_uri": "https://localhost:8080/"
        },
        "id": "g3cFpHqqwlLp",
        "outputId": "5ed59f01-f312-4bfe-cbc3-38adf7802016"
      },
      "execution_count": null,
      "outputs": [
        {
          "output_type": "execute_result",
          "data": {
            "text/plain": [
              "600"
            ]
          },
          "metadata": {},
          "execution_count": 49
        }
      ]
    },
    {
      "cell_type": "code",
      "source": [
        "# Check the list to see where the items are\n",
        "west_coast"
      ],
      "metadata": {
        "colab": {
          "base_uri": "https://localhost:8080/"
        },
        "id": "jS6AKAI6wqcd",
        "outputId": "02e8d004-3f78-4ea4-f032-e3ebf4ac5226"
      },
      "execution_count": null,
      "outputs": [
        {
          "output_type": "execute_result",
          "data": {
            "text/plain": [
              "['Stinson Beach', 'three hundred', 400, 500]"
            ]
          },
          "metadata": {},
          "execution_count": 50
        }
      ]
    },
    {
      "cell_type": "code",
      "source": [
        "# The .remove() method can remove an item by the value\n",
        "# We realize the words \"three hundred\" should not be in the list\n",
        "west_coast.remove('three hundred')"
      ],
      "metadata": {
        "id": "59Q8_GqPwsG_"
      },
      "execution_count": null,
      "outputs": []
    },
    {
      "cell_type": "code",
      "source": [
        "# Check the list again to see if \"three hundred\" is removed\n",
        "west_coast"
      ],
      "metadata": {
        "colab": {
          "base_uri": "https://localhost:8080/"
        },
        "id": "5QHpbfuZw5AJ",
        "outputId": "e5d1faba-6b12-460f-b60b-80d97bfbc8e7"
      },
      "execution_count": null,
      "outputs": [
        {
          "output_type": "execute_result",
          "data": {
            "text/plain": [
              "['Stinson Beach', 400, 500]"
            ]
          },
          "metadata": {},
          "execution_count": 52
        }
      ]
    },
    {
      "cell_type": "code",
      "source": [
        "# Data Scientists use the length function often.\n",
        "# Check the length of your list using the .len() method.\n",
        "len(west_coast)"
      ],
      "metadata": {
        "colab": {
          "base_uri": "https://localhost:8080/"
        },
        "id": "Y-CLEvQ7w6Oh",
        "outputId": "a5ba5969-a731-42c7-aa4e-842a268a2242"
      },
      "execution_count": null,
      "outputs": [
        {
          "output_type": "execute_result",
          "data": {
            "text/plain": [
              "3"
            ]
          },
          "metadata": {},
          "execution_count": 53
        }
      ]
    },
    {
      "cell_type": "code",
      "source": [
        "# Check the contents of the list again\n",
        "west_coast"
      ],
      "metadata": {
        "colab": {
          "base_uri": "https://localhost:8080/"
        },
        "id": "cJ3CImUCxPn3",
        "outputId": "7ebabc24-6ab4-4005-b2e9-127c84cd24db"
      },
      "execution_count": null,
      "outputs": [
        {
          "output_type": "execute_result",
          "data": {
            "text/plain": [
              "['Stinson Beach', 400, 500]"
            ]
          },
          "metadata": {},
          "execution_count": 54
        }
      ]
    },
    {
      "cell_type": "markdown",
      "source": [
        "#User Defined Functions\n",
        "Add: Return example."
      ],
      "metadata": {
        "id": "vzFRa6uH4mTF"
      }
    },
    {
      "cell_type": "code",
      "source": [
        "#Define a function that has a greeting and allows arguments for name and greeting type.\n",
        "#Working with functions and arguments\n",
        "def greetings(name, greeting):\n",
        "    print(greeting,\n",
        "          '!',\n",
        "          name,\n",
        "          sep = ' ')\n",
        "\n",
        "greetings('John','Hello')\n",
        "greetings('Mr. Wick','Salutations')"
      ],
      "metadata": {
        "colab": {
          "base_uri": "https://localhost:8080/"
        },
        "id": "i6txPznMxWwd",
        "outputId": "da0dec0d-b6a0-480d-9d6d-01e28a28f598"
      },
      "execution_count": null,
      "outputs": [
        {
          "output_type": "stream",
          "name": "stdout",
          "text": [
            "Hello ! John\n",
            "Salutations ! Mr. Wick\n"
          ]
        }
      ]
    },
    {
      "cell_type": "code",
      "source": [
        "# The return function can return a value from a function\n",
        "# It can also be used to step back in a function to a previous level of a function\n",
        "# This is a multi-level function we use return to back out to the previous level\n",
        "import math\n",
        "def area(x1, y1, x2, y2):\n",
        "  \"\"\"Area of a circle function\"\"\"\n",
        "  def radius(x1, y1, x2, y2):\n",
        "    \"\"\"Distance formula to determine the radius of a circle\"\"\"\n",
        "    return math.sqrt(math.pow(x2 - x1, 2) + math.pow(y2 - y1, 2))\n",
        "  return(math.pi * math.pow(radius(x1, y1, x2, y2), 2))\n",
        "\n",
        "print(\"The area of your circle is: \", area(0, 0, 4, 4))"
      ],
      "metadata": {
        "id": "xVjT2z5mxIit",
        "colab": {
          "base_uri": "https://localhost:8080/"
        },
        "outputId": "19894c4c-a5e1-40f3-c95f-8785633b0809"
      },
      "execution_count": null,
      "outputs": [
        {
          "output_type": "stream",
          "name": "stdout",
          "text": [
            "The area of your circle is:  100.53096491487341\n"
          ]
        }
      ]
    },
    {
      "cell_type": "markdown",
      "source": [
        "# Conditional Logic"
      ],
      "metadata": {
        "id": "_Bkf_07Jyw7w"
      }
    },
    {
      "cell_type": "code",
      "source": [
        "# Let's use conditional logic operators to print a statement\n",
        "n = 12000.01\n",
        "\n",
        "if n <0:\n",
        "  print(\"Your balance is below $0.00, please make a deposit\",\n",
        "        \"your current balance is: \", \"$\", n)\n",
        "else:\n",
        "  print(\"Your current balance is: \",\"$\",\n",
        "        n)"
      ],
      "metadata": {
        "colab": {
          "base_uri": "https://localhost:8080/"
        },
        "id": "SBcd04rTvxJO",
        "outputId": "a4cf3a7b-6b2c-46a5-b1fa-a0328ed7eaf9"
      },
      "execution_count": null,
      "outputs": [
        {
          "output_type": "stream",
          "name": "stdout",
          "text": [
            "Your current balance is:  $ 12000.01\n"
          ]
        }
      ]
    },
    {
      "cell_type": "code",
      "source": [
        "# You can use the same variable in another logic statement.\n",
        "if n>100:\n",
        "  print(\"Your balance is high enough for a savings account.\")\n",
        "else:\n",
        "  print(\"Thank you for checking your balance today.\")"
      ],
      "metadata": {
        "colab": {
          "base_uri": "https://localhost:8080/"
        },
        "id": "SDD6M7MTzkxg",
        "outputId": "cde39068-299f-4e59-9be1-d6bae0cd2c58"
      },
      "execution_count": null,
      "outputs": [
        {
          "output_type": "stream",
          "name": "stdout",
          "text": [
            "Your balance is high enough for a savings account.\n"
          ]
        }
      ]
    },
    {
      "cell_type": "code",
      "source": [
        "# Let's test the same logic with a different n value\n",
        "n = -12000.01\n",
        "\n",
        "if n <0:\n",
        "  print(\"Your balance is below $0.00, please make a deposit\",\n",
        "        \"your current balance is: \", \"$\", n)\n",
        "else:\n",
        "  print(\"Your current balance is: \",\"$\",\n",
        "        n)"
      ],
      "metadata": {
        "colab": {
          "base_uri": "https://localhost:8080/"
        },
        "id": "QDxezJHHE8Wi",
        "outputId": "f2eca265-4da8-444e-bd36-18e2cd890300"
      },
      "execution_count": null,
      "outputs": [
        {
          "output_type": "stream",
          "name": "stdout",
          "text": [
            "Your balance is below $0.00, please make a deposit your current balance is:  $ -12000.01\n"
          ]
        }
      ]
    },
    {
      "cell_type": "code",
      "source": [
        "# What is the outcome of the other logic statement now that n is a different value?\n",
        "if n>100:\n",
        "  print(\"Your balance is high enough for a savings account.\")\n",
        "else:\n",
        "  print(\"Thank you for checking your balance today.\")"
      ],
      "metadata": {
        "id": "AQpYxAsQzbtp",
        "colab": {
          "base_uri": "https://localhost:8080/"
        },
        "outputId": "a215fe6a-6b0f-4349-fc74-883d0a003577"
      },
      "execution_count": null,
      "outputs": [
        {
          "output_type": "stream",
          "name": "stdout",
          "text": [
            "Thank you for checking your balance today.\n"
          ]
        }
      ]
    }
  ]
}